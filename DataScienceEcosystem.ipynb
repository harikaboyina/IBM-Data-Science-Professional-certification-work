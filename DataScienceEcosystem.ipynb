{
 "cells": [
  {
   "cell_type": "markdown",
   "id": "83637485",
   "metadata": {},
   "source": [
    "# Data Science Tools and Ecosystem"
   ]
  },
  {
   "cell_type": "markdown",
   "id": "f586c002",
   "metadata": {},
   "source": [
    "In this notebook, Data Science Tools and Ecosystem are summarized."
   ]
  },
  {
   "cell_type": "markdown",
   "id": "45071332",
   "metadata": {},
   "source": [
    "### Objectives:\n",
    "\n",
    "- List popular languages for Data Science.\n",
    "- Introduce common libraries used in Data Science.\n",
    "- List the tools for Data Science.\n",
    "- Provide examples of evaluating arithmetic expressions in Python."
   ]
  },
  {
   "cell_type": "markdown",
   "id": "97426f9b",
   "metadata": {},
   "source": [
    "Some of the popular languages that Data Scientists use are:\n",
    "\n",
    "1. Python\n",
    "2. SQL\n",
    "3. R"
   ]
  },
  {
   "cell_type": "markdown",
   "id": "3c78b687",
   "metadata": {},
   "source": [
    "Some of the commonly used libraries used by Data Scientists include:\n",
    "    \n",
    "1. Sckit-learn\n",
    "2. Seaborn\n",
    "3. Matplotlib\n",
    "4. Numpy\n",
    "5. Pandas\n",
    "6. plotly\n",
    "7. SciPy\n",
    "8. TensorFlow\n",
    "9. PyTorch\n",
    "10. Keras\n",
    "11. Statsmodels"
   ]
  },
  {
   "cell_type": "markdown",
   "id": "d2a22261",
   "metadata": {},
   "source": [
    "| Data Science Tools |\n",
    " -----------------------\n",
    "| Jupyter Notebook        |\n",
    "| Google Colab            |\n",
    "| RStudio                 |\n",
    "| PyCharm                 |      \n",
    "| Zeppelin                |         \n",
    "| Databricks              |        \n"
   ]
  },
  {
   "cell_type": "markdown",
   "id": "b2a9c639",
   "metadata": {},
   "source": [
    "### Below are a few examples of evaluating arithmetic expressions in Python :\n",
    "\n",
    "1. Addition: '2 + 3 = 5'\n",
    "2. Subtraction: '12 - 6 = 6'\n",
    "3. Multiplication: '4 * 2 = 8'\n",
    "4. Division: '18 / 2 = 9'\n",
    "5. Exponentiation: '4 ** 2 = 16'\n",
    "6. Modulus: '10 % 3 = 1'"
   ]
  },
  {
   "cell_type": "code",
   "execution_count": 2,
   "id": "2cec1c2f",
   "metadata": {},
   "outputs": [
    {
     "name": "stdout",
     "output_type": "stream",
     "text": [
      "17\n"
     ]
    }
   ],
   "source": [
    "##This a simple arithmetic expression to mutiply then add integers.\n",
    "print((3*4)+5)"
   ]
  },
  {
   "cell_type": "code",
   "execution_count": 3,
   "id": "2acaa315",
   "metadata": {},
   "outputs": [
    {
     "name": "stdout",
     "output_type": "stream",
     "text": [
      "3.3333333333333335\n"
     ]
    }
   ],
   "source": [
    "#This will convert 200 minutes to hours by diving by 60.\n",
    "print(200/60)"
   ]
  },
  {
   "cell_type": "markdown",
   "id": "60739faf",
   "metadata": {},
   "source": [
    "## Author\n",
    "Harika Boyina\n"
   ]
  },
  {
   "cell_type": "code",
   "execution_count": null,
   "id": "a822e5e4",
   "metadata": {},
   "outputs": [],
   "source": []
  }
 ],
 "metadata": {
  "kernelspec": {
   "display_name": "Python 3 (ipykernel)",
   "language": "python",
   "name": "python3"
  },
  "language_info": {
   "codemirror_mode": {
    "name": "ipython",
    "version": 3
   },
   "file_extension": ".py",
   "mimetype": "text/x-python",
   "name": "python",
   "nbconvert_exporter": "python",
   "pygments_lexer": "ipython3",
   "version": "3.11.5"
  }
 },
 "nbformat": 4,
 "nbformat_minor": 5
}
